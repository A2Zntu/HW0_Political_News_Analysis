{
 "cells": [
  {
   "cell_type": "code",
   "execution_count": 2,
   "metadata": {},
   "outputs": [],
   "source": [
    "from collections import Counter\n",
    "\n",
    "s = '''A Counter is a dict subclass for counting hashable objects. It is an unordered collection where elements are stored as dictionary keys and their counts are stored as dictionary values. Counts are allowed to be any integer value including zero or negative counts. The Counter class is similar to bags or multisets in other languages.'''.lower()\n",
    "\n",
    "c = Counter(s)"
   ]
  },
  {
   "cell_type": "code",
   "execution_count": 3,
   "metadata": {},
   "outputs": [
    {
     "data": {
      "text/plain": [
       "Counter({'a': 24,\n",
       "         ' ': 54,\n",
       "         'c': 15,\n",
       "         'o': 22,\n",
       "         'u': 13,\n",
       "         'n': 21,\n",
       "         't': 24,\n",
       "         'e': 32,\n",
       "         'r': 20,\n",
       "         'i': 20,\n",
       "         's': 25,\n",
       "         'd': 10,\n",
       "         'b': 5,\n",
       "         'l': 14,\n",
       "         'f': 1,\n",
       "         'g': 7,\n",
       "         'h': 6,\n",
       "         'j': 1,\n",
       "         '.': 4,\n",
       "         'w': 2,\n",
       "         'm': 3,\n",
       "         'y': 4,\n",
       "         'k': 1,\n",
       "         'v': 3,\n",
       "         'z': 1})"
      ]
     },
     "execution_count": 3,
     "metadata": {},
     "output_type": "execute_result"
    }
   ],
   "source": [
    "c"
   ]
  },
  {
   "cell_type": "code",
   "execution_count": 6,
   "metadata": {},
   "outputs": [
    {
     "name": "stdout",
     "output_type": "stream",
     "text": [
      "Regular Dict:\n",
      "Araon 1\n",
      "Banana 2\n",
      "Clair 3\n",
      "Ordered Dict:\n",
      "Araon 1\n",
      "Banana 2\n",
      "Clair 3\n"
     ]
    }
   ],
   "source": [
    "from collections import OrderedDict\n",
    "items = (\n",
    "    ('Araon', 1),\n",
    "    ('Banana', 2),\n",
    "    ('Clair', 3)\n",
    ")\n",
    "\n",
    "regular_dict = dict(items)\n",
    "ordered_dict = OrderedDict(items)\n",
    "\n",
    "print('Regular Dict:')\n",
    "for k, v in regular_dict.items():\n",
    "    print( k, v)\n",
    "\n",
    "print( 'Ordered Dict:')\n",
    "for k, v in ordered_dict.items():\n",
    "    print( k, v)"
   ]
  },
  {
   "cell_type": "code",
   "execution_count": 7,
   "metadata": {},
   "outputs": [],
   "source": [
    "def lcut_to_dict(lcut):\n",
    "    word_dict = dict(Counter(lcut)) #count every word repetition\n",
    "#     word_dict.pop(' ')\n",
    "    return(remove_stopwords_from_dict(word_dict, stopwords))"
   ]
  },
  {
   "cell_type": "code",
   "execution_count": 12,
   "metadata": {},
   "outputs": [
    {
     "data": {
      "text/plain": [
       "['\\ufeff', '', '$', '0', '1', '2', '3', '4', '5', '6']"
      ]
     },
     "execution_count": 12,
     "metadata": {},
     "output_type": "execute_result"
    }
   ],
   "source": [
    "stopwords = []\n",
    "with open('../jieba_data/stopwords.txt', 'r', encoding='UTF-8') as file:\n",
    "    for each in file.readlines():\n",
    "        stopwords.append(each.strip())\n",
    "    stopwords.append(' ')  \n",
    "stopwords[:10]"
   ]
  },
  {
   "cell_type": "code",
   "execution_count": 13,
   "metadata": {},
   "outputs": [],
   "source": [
    "def remove_stopwords_from_dict(word_dict, stopwords):\n",
    "    for w in stopwords:\n",
    "        word_dict.pop(w, word_dict)\n",
    "    return word_dict\n"
   ]
  },
  {
   "cell_type": "code",
   "execution_count": 15,
   "metadata": {},
   "outputs": [
    {
     "data": {
      "text/plain": [
       "{'中文系': 1, '你好': 1, '柯文哲': 1}"
      ]
     },
     "execution_count": 15,
     "metadata": {},
     "output_type": "execute_result"
    }
   ],
   "source": [
    "lcut = [\"中文系\", \"你好\", \"柯文哲\"]\n",
    "dict_new = lcut_to_dict(lcut)\n",
    "dict_new"
   ]
  },
  {
   "cell_type": "code",
   "execution_count": 24,
   "metadata": {},
   "outputs": [
    {
     "name": "stdout",
     "output_type": "stream",
     "text": [
      "['中文系', '中文系', '中文系', '中文系']\n"
     ]
    }
   ],
   "source": [
    "keyword  = \"中文系\"\n",
    "\n",
    "lcut = [\"中文系\", \"你好\", \"柯文哲\", \"中文系\", \"中文系\", \"中文系\"]\n",
    "newList = list(filter(lambda x: keyword in x, lcut))\n",
    "print(newList)"
   ]
  },
  {
   "cell_type": "code",
   "execution_count": 27,
   "metadata": {},
   "outputs": [],
   "source": [
    "punctuation = list(\"!@#$%^&*()_+=-[]`~'\\\"|/\\\\abcdefghijklmnopqrstuvwxyzABCDEFGHIJKLMNOPQRSTUVWXYZ,.;{}\\r\\xa0\\u3000、，。「」！？；：<>\")"
   ]
  }
 ],
 "metadata": {
  "kernelspec": {
   "display_name": "Python 3",
   "language": "python",
   "name": "python3"
  },
  "language_info": {
   "codemirror_mode": {
    "name": "ipython",
    "version": 3
   },
   "file_extension": ".py",
   "mimetype": "text/x-python",
   "name": "python",
   "nbconvert_exporter": "python",
   "pygments_lexer": "ipython3",
   "version": "3.6.5"
  }
 },
 "nbformat": 4,
 "nbformat_minor": 2
}
